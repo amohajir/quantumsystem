{
 "cells": [
  {
   "cell_type": "markdown",
   "id": "1de8fc56",
   "metadata": {},
   "source": [
    "# Further Closure:  \n",
    "## A final project on simulating something \"like electrons and positrons\"\n",
    "\n",
    "## Objectives:\n",
    "\n",
    "* Gain familiarity with simulating quantum systems through trotterization\n",
    "* Using all your accrued skills, implement a novel code on a real device\n",
    "* Perform statistical analysis on noisy data\n",
    "\n",
    "This lab is a vain attempt to extend some of the work performed in BLARG to actual machines. I have tried to inject this with as much of the real feel of doing work on quantum algorithms today as possible.  \n",
    "\n",
    "## The Model: 1+1d $Z_2$ gauge theory with staggered fermionic matter\n",
    "\n",
    "To remember the picture, and the qubit assignments\n",
    "![z2_cart.png](attachment:z2_cart.png)\n",
    "\n",
    "## The Hamiltonian\n",
    "\n",
    "The lattice qubit Hamiltonian for this model is\n",
    "\n",
    "$$\n",
    "H = \\frac{m}{2}Z_{e}-\\frac{m}{2} Z_{p}\n",
    "+X_{\\gamma}+\\frac{1}{4}Z_{\\gamma} \\left(X_{e}X_{p}+Y_e Y_{p}\\right)\n",
    "$$\n",
    "\n",
    "The subscripts indicate which of the 3 qubits a given gate is acting on (the electron $e$, the positron $p$, or the photon $\\gamma$)\n",
    "\n",
    "## Time Evolution\n",
    "\n",
    "$$ |\\psi(t)\\rangle = U|\\psi_0\\rangle=e^{-iHt}|\\psi_0\\rangle$$\n",
    "\n",
    "Thinking back to Hersh's lecture, we remember that $H$ often has non-commuting terms, which prevents the gate $U$ from being efficiently built into a circuit.  The method of _trotterization_ allows us approximate the $U$ in a way that is efficient.  In our case, there are 3 terms in our Hamiltonian:\n",
    "\n",
    "$$ H = H_{kg} + H_{fh} + H_{m} $$\n",
    "\n",
    "* $H_{kg}$ is the kinetic term for the photon\n",
    "* $H_{fh}$ is the fermionic hopping term\n",
    "* $H_{m}$ is the fermionic mass terms\n",
    "\n",
    "In this case, we can approximate $U$ by:\n",
    "\n",
    "$$\\Large U=e^{-iHt}\\approx \\left(e^{-iH_{kg}\\epsilon}e^{-iH_{fh}\\epsilon}e^{-iH_{m}\\epsilon}\\right)^{t/\\epsilon}+O(\\epsilon^2)\\equiv (U_\\epsilon)^{N} $$\n",
    "where $N=t/\\epsilon$ is the number of time steps we want to use. With this, we can now write $U_\\epsilon$ in terms of gates:\n",
    "\n",
    "$$\\Large{ U_{\\epsilon}=e^{-iH_{kg}\\epsilon}e^{-iH_{fh}\\epsilon}e^{-iH_{m}\\epsilon}\n",
    "\\\\     =e^{-i\\epsilon X_\\gamma}e^{-i\\frac{\\epsilon}{4}Z_{\\gamma} \\left(X_{e}X_{p}+Y_e Y_{p}\\right)}e^{-i(-1)^j m \\epsilon Z_j} }$$\n",
    "where $j={e=0,p=1}$\n",
    "Now, the first and last gates should look familar to you as general rotation gates in the $X,Z$ directions:\n",
    "\n",
    "$${ e^{-i\\epsilon X_\\gamma}=RX(-\\epsilon/2)\n",
    "    \\\\e^{-i(-1)^j m \\epsilon Z_j}=RZ((-1)^{j+1}m\\epsilon ) } $$"
   ]
  },
  {
   "attachments": {
    "rz3.png": {
     "image/png": "[encoded data removed]"
    }
   },
   "cell_type": "markdown",
   "id": "15994a23",
   "metadata": {},
   "source": [
    "The final term, fermion hopping $U_{fh}$, is by far the hardest and most non-trivial gate.  Previously, you implemented a 4 qubit gate for performing this by defining a gate $RZ3$ as the collection of CNOTs and the $RZ$ gate, this gate looks like:\n",
    "\n",
    "![rz3.png](attachment:rz3.png)"
   ]
  },
  {
   "attachments": {
    "fh_gate.png": {
     "image/png": "[encoded data removed]"
    }
   },
   "cell_type": "markdown",
   "id": "b65bef98",
   "metadata": {},
   "source": [
    "from which we can get the $U_{fh}$ as:\n",
    "\n",
    "![fh_gate.png](attachment:fh_gate.png)\n",
    "\n",
    "Notice that this gate requires 12 $CNOTs$.  Since 2-qubit gates errors are much larger than 1 qubit errors, the errors in $U_{fh}$ dominate our circuit.\n",
    "\n",
    "We will come back to this."
   ]
  },
  {
   "cell_type": "markdown",
   "id": "272cc2cc",
   "metadata": {},
   "source": [
    "\n",
    "## ...Ready for it? \n",
    "\n",
    "So first of, lets of course set up all the imports that we need:\n",
    "\n",
    "* numpy\n",
    "* import everything from qiskit\n",
    "* import `matplotlib.pyplot` as plt\n",
    "* Make sure you have $\\pi$"
   ]
  },
  {
   "cell_type": "code",
   "execution_count": 1,
   "id": "e73d1abe",
   "metadata": {},
   "outputs": [],
   "source": [
    "import numpy as np\n",
    "from qiskit import IBMQ, Aer, assemble, transpile, QuantumCircuit, QuantumRegister, ClassicalRegister\n",
    "from qiskit.providers.ibmq import least_busy\n",
    "from qiskit.visualization import plot_histogram\n",
    "from qiskit.tools.monitor import job_monitor\n",
    "from numpy import pi"
   ]
  },
  {
   "cell_type": "markdown",
   "id": "e7551f9d",
   "metadata": {},
   "source": [
    "Next, you neeed to load your IBMQ account, and set your provider to our `qjs-for-hep` project.  Finally, use the command\n",
    "\n",
    "    provider.backends()\n",
    "to look at all the computers 'available' to you (Note, 'ibmq_16_melbourne' isn't actually accessible)\n",
    "\n",
    "Keep this list for later"
   ]
  },
  {
   "cell_type": "code",
   "execution_count": 2,
   "id": "2a1ad8eb",
   "metadata": {},
   "outputs": [
    {
     "data": {
      "text/plain": [
       "[<IBMQSimulator('ibmq_qasm_simulator') from IBMQ(hub='ibm-q-education', group='fermilab-1', project='qjs-for-hep')>,\n",
       " <IBMQBackend('ibmq_belem') from IBMQ(hub='ibm-q-education', group='fermilab-1', project='qjs-for-hep')>,\n",
       " <IBMQBackend('ibmq_16_melbourne') from IBMQ(hub='ibm-q-education', group='fermilab-1', project='qjs-for-hep')>,\n",
       " <IBMQBackend('ibmq_armonk') from IBMQ(hub='ibm-q-education', group='fermilab-1', project='qjs-for-hep')>,\n",
       " <IBMQBackend('ibmq_bogota') from IBMQ(hub='ibm-q-education', group='fermilab-1', project='qjs-for-hep')>,\n",
       " <IBMQBackend('ibmq_casablanca') from IBMQ(hub='ibm-q-education', group='fermilab-1', project='qjs-for-hep')>,\n",
       " <IBMQBackend('ibmq_santiago') from IBMQ(hub='ibm-q-education', group='fermilab-1', project='qjs-for-hep')>,\n",
       " <IBMQBackend('ibmq_quito') from IBMQ(hub='ibm-q-education', group='fermilab-1', project='qjs-for-hep')>,\n",
       " <IBMQBackend('ibmq_lima') from IBMQ(hub='ibm-q-education', group='fermilab-1', project='qjs-for-hep')>,\n",
       " <IBMQBackend('ibmqx2') from IBMQ(hub='ibm-q-education', group='fermilab-1', project='qjs-for-hep')>,\n",
       " <IBMQBackend('ibm_lagos') from IBMQ(hub='ibm-q-education', group='fermilab-1', project='qjs-for-hep')>,\n",
       " <IBMQBackend('ibmq_manila') from IBMQ(hub='ibm-q-education', group='fermilab-1', project='qjs-for-hep')>,\n",
       " <IBMQBackend('ibmq_jakarta') from IBMQ(hub='ibm-q-education', group='fermilab-1', project='qjs-for-hep')>]"
      ]
     },
     "execution_count": 2,
     "metadata": {},
     "output_type": "execute_result"
    }
   ],
   "source": [
    "IBMQ.load_account()\n",
    "provider = IBMQ.get_provider(hub='ibm-q-education', group='fermilab-1', project='qjs-for-hep')\n",
    "provider.backends()"
   ]
  },
  {
   "cell_type": "markdown",
   "id": "6a7f2c57",
   "metadata": {},
   "source": [
    "Copy over from yesterday your initalization of `N,epsilon`, and `mass`"
   ]
  },
  {
   "cell_type": "code",
   "execution_count": 9,
   "id": "6fc80eb3",
   "metadata": {},
   "outputs": [],
   "source": [
    "N = 2\n",
    "epsilon = 0.5\n",
    "m = 0.10\n",
    "eta = 1"
   ]
  },
  {
   "cell_type": "markdown",
   "id": "2bd92e49",
   "metadata": {},
   "source": [
    "## Gauge Kinetic Gate\n",
    "Copy over your function for $RX(-\\epsilon/2)$"
   ]
  },
  {
   "cell_type": "code",
   "execution_count": 4,
   "id": "bb45d1ca",
   "metadata": {},
   "outputs": [],
   "source": [
    "def gauge_kinetic(epsilon):\n",
    "    qc = QuantumCircuit(1)\n",
    "    theta = -epsilon/2\n",
    "    qc.rx(theta, 0)\n",
    "    ukg = qc.to_gate()\n",
    "    ukg.name = 'Rx'\n",
    "    \n",
    "    return ukg"
   ]
  },
  {
   "cell_type": "markdown",
   "id": "da54bb46",
   "metadata": {},
   "source": [
    "## Fermion mass gate\n",
    "\n",
    "Copy over your function for $RZ((-1)^{j+1}m\\epsilon ) $"
   ]
  },
  {
   "cell_type": "code",
   "execution_count": 5,
   "id": "8fd6d10c",
   "metadata": {},
   "outputs": [],
   "source": [
    "def fermion_mass(epsilon, mass, eta):\n",
    "    qc = QuantumCircuit(1)\n",
    "    qc.rz((-eta*mass*epsilon), [0])\n",
    "    fm = qc.to_gate()\n",
    "    fm.name = \"Rz\"\n",
    "    return fm"
   ]
  },
  {
   "cell_type": "markdown",
   "id": "60297d08",
   "metadata": {},
   "source": [
    "## Fermion hopping term\n",
    "\n",
    "Copy over your functions for $RZ3$ and $U_{fh}$"
   ]
  },
  {
   "cell_type": "code",
   "execution_count": 6,
   "id": "6d999616",
   "metadata": {},
   "outputs": [],
   "source": [
    "def rz3(theta):\n",
    "    qc = QuantumCircuit(4)\n",
    "    qc.cx(0,3)\n",
    "    qc.cx(1,3)\n",
    "    qc.cx(2,3)\n",
    "    qc.rz(theta, 3)\n",
    "    qc.cx(0,3)\n",
    "    qc.cx(1,3)\n",
    "    qc.cx(2,3)\n",
    "    U_rz3 = qc.to_gate()\n",
    "    U_rz3.name = \"the complicated set of gates (urz3)\"\n",
    "    return U_rz3"
   ]
  },
  {
   "cell_type": "code",
   "execution_count": 7,
   "id": "f716265e",
   "metadata": {},
   "outputs": [],
   "source": [
    "def gross_gate(epsilon, eta):\n",
    "    qc = QuantumCircuit(4)\n",
    "    qc.h(0)\n",
    "    qc.h(2)\n",
    "    qubit_list = [0,1,2,3]\n",
    "    U_rz3 = rz3((-epsilon)/(4*eta))\n",
    "    qc.append(U_rz3, qubit_list)\n",
    "    qc.h(0)\n",
    "    qc.h(2)\n",
    "    qc.u((-pi/2), (pi/2), (-pi/2), 0)\n",
    "    qc.u((-pi/2), (pi/2), (-pi/2), 2)\n",
    "    qc.append(U_rz3, qubit_list)\n",
    "    qc.u((pi/2), (pi/2), (-pi/2), 0)\n",
    "    qc.u((pi/2), (pi/2), (-pi/2), 2)\n",
    "    grossgate = qc.to_gate()\n",
    "    grossgate.name = \"ufh\"\n",
    "    return grossgate"
   ]
  },
  {
   "cell_type": "markdown",
   "id": "df3b1cd4",
   "metadata": {},
   "source": [
    "Clearly, $U_{fh}$ is much more expensive to implement than the $U_{kg}$ or $U_{fm}$. Last time, you performed benchmarking using the state $|0000\\rangle$.  In the musings at the end of the lab, I asked you to ponder whether this was sufficient to learn everything about the circuit.  One thing you might have worried about is that, if we only pass in 1 state, perhaps the biggest errors happen for other states.  This is precisely what we will test now.\n",
    "\n",
    "* To do this, create a QuantumCircuit with 4 qubits and 4 classical bits, apply your fermion_hopping gate with `epsilon` and `eta=1`.\n",
    "* Initialize the first 3 qubits into Hadamard states.\n",
    "* Run and get the counts output from the `qasm_simulator` as your backend with `Aer.get_backend()`.  Store the counts of your result in `sim_results`\n",
    "* Rerun with a real device, store the counts of your results in `real_results`\n",
    "*Because changing machines can change the noise dramatically, instead of using `least_busy` you should choose a single backend from the list above with the command `backend = provider.get_backend('name_of_backend')`. Because we need 4 qubits, you should only choose from: `ibmq_belem`, `ibmq_casablanca`, `ibm_lagos`, `ibm_nairobi`, `ibmq_bogota`, `ibmq_santiago`, `ibmq_manila`, `ibmq_jakarta`, `ibmq_quinto`, or `ibmq_5_yorktown`\n",
    "\n",
    "   "
   ]
  },
  {
   "cell_type": "code",
   "execution_count": 10,
   "id": "eae50803",
   "metadata": {},
   "outputs": [
    {
     "name": "stderr",
     "output_type": "stream",
     "text": [
      "ibmqfactory.load_account:WARNING:2021-07-23 21:04:50,070: Credentials are already in use. The existing account in the session will be replaced.\n"
     ]
    },
    {
     "name": "stdout",
     "output_type": "stream",
     "text": [
      "backend:  ibm_lagos\n",
      "Job Status: job has successfully run\n"
     ]
    }
   ],
   "source": [
    "qc = QuantumCircuit(4, 4)\n",
    "qubitlist = [0,1,2,3]\n",
    "grossgate = gross_gate(epsilon, eta)\n",
    "qc.h(0)\n",
    "qc.h(1)\n",
    "qc.h(2)\n",
    "qc.append(grossgate, qubitlist)\n",
    "qc.measure_all()\n",
    "\n",
    "simbackend = Aer.get_backend(\"qasm_simulator\")\n",
    "transpiled = transpile(qc, backend=simbackend)\n",
    "qobj = assemble(transpiled)\n",
    "results = simbackend.run(qobj).result()\n",
    "sim_results = results.get_counts()\n",
    "\n",
    "IBMQ.load_account()\n",
    "provider = IBMQ.get_provider(hub='ibm-q-education', group='fermilab-1', project='qjs-for-hep')\n",
    "backend = provider.get_backend('ibm_lagos')\n",
    "print(\"backend: \", backend)\n",
    "\n",
    "shots = 1024\n",
    "transpiled_qc = transpile(qc, backend, optimization_level=3)\n",
    "job = backend.run(transpiled_qc, shots=shots)\n",
    "job_monitor(job, interval=2)\n",
    "real_results = job.result().get_counts()"
   ]
  },
  {
   "cell_type": "markdown",
   "id": "1111d7e2",
   "metadata": {},
   "source": [
    "Repeat the exercise of plotting the simulated probabilities versus the real ones in a histogram.  Do the errors seems larger? smaller? about the same as acting on the $|0000\\rangle$ state?"
   ]
  },
  {
   "cell_type": "code",
   "execution_count": 11,
   "id": "a30aa044",
   "metadata": {},
   "outputs": [
    {
     "data": {
      "image/png": "[encoded data removed]",
      "text/plain": [
       "<Figure size 1296x360 with 1 Axes>"
      ]
     },
     "execution_count": 11,
     "metadata": {},
     "output_type": "execute_result"
    }
   ],
   "source": [
    "plot_histogram([sim_results, real_results], figsize=(18, 5))"
   ]
  },
  {
   "attachments": {
    "fhsmart.png": {
     "image/png": "[encoded data removed]"
    }
   },
   "cell_type": "markdown",
   "id": "91516350",
   "metadata": {},
   "source": [
    "As I highlighted for you before, this gate takes 12 CNOTs and 4 qubits even though we only need 3 qubits for our model.  This particular implementation of $U_{fh}$ that you have constructed is in fact not the smartest way one could implement this gate.  \n",
    "\n",
    "In fac as Erik and Evan point out to me, you can perform the action of $U_{fh}$ without recourse to the ancilla qubit!  This reduces the CNOTs from $4!=12$ to $3!=6$.  For us, thats cutting our number of $CNOTs$ in half!  The in-situ circuit for $U_{fh}$ is:\n",
    "\n",
    "![fhsmart.png](attachment:fhsmart.png)\n",
    "\n",
    "The tricky part, not easily show in this picture, is that the argument on $RZ$ on $q0$ is $\\epsilon/4\\times\\eta$ and $RZ$ on $q2$ is $-\\epsilon/4\\times\\eta$.\n",
    "\n",
    "* Define this function as `fermion_hopping_opt2(epsilon,eta)`"
   ]
  },
  {
   "cell_type": "code",
   "execution_count": 12,
   "id": "263cd6e3",
   "metadata": {},
   "outputs": [],
   "source": [
    "def fermion_hopping_opt2(epsilon, eta):\n",
    "    qc = QuantumCircuit(3)\n",
    "    qc.cx(0, 2)\n",
    "    qc.h(0)\n",
    "    qc.cx(1, 0)\n",
    "    qc.cx(0, 2)\n",
    "    qc.rz((epsilon/4)*eta, 0)\n",
    "    qc.rz((-epsilon/4)*eta, 2)\n",
    "    qc.cx(0, 2)\n",
    "    qc.cx(1, 0)\n",
    "    qc.h(0)\n",
    "    qc.cx(0, 2)\n",
    "    \n",
    "    lessgrossgate = qc.to_gate()\n",
    "    lessgrossgate.name = \"ufh2\"\n",
    "    return lessgrossgate"
   ]
  },
  {
   "cell_type": "markdown",
   "id": "92022520",
   "metadata": {},
   "source": [
    "Better check you have properly implemented this with a decompose and a draw()"
   ]
  },
  {
   "cell_type": "code",
   "execution_count": 13,
   "id": "1c06c76a",
   "metadata": {},
   "outputs": [
    {
     "data": {
      "image/png": "[encoded data removed]",
      "text/plain": [
       "<Figure size 628.397x204.68 with 1 Axes>"
      ]
     },
     "execution_count": 13,
     "metadata": {},
     "output_type": "execute_result"
    }
   ],
   "source": [
    "qc = QuantumCircuit(3)\n",
    "qubitlist= [0,1,2]\n",
    "lessgrossgate = fermion_hopping_opt2(epsilon, eta)\n",
    "qc.append(lessgrossgate, qubitlist)\n",
    "qc.decompose().draw()"
   ]
  },
  {
   "cell_type": "markdown",
   "id": "bc7c2a63",
   "metadata": {},
   "source": [
    "Now, lets try and repeat the experiment of comparing the the simulated results to the real machine for a $|+++\\rangle$ state.  Unlike the previous circuit, you don't need 4 qubits and 4 classical bits, but only 3 of each."
   ]
  },
  {
   "cell_type": "code",
   "execution_count": 14,
   "id": "0265d6f3",
   "metadata": {},
   "outputs": [
    {
     "name": "stderr",
     "output_type": "stream",
     "text": [
      "ibmqfactory.load_account:WARNING:2021-07-23 21:20:02,693: Credentials are already in use. The existing account in the session will be replaced.\n"
     ]
    },
    {
     "name": "stdout",
     "output_type": "stream",
     "text": [
      "backend:  ibm_lagos\n",
      "Job Status: job has successfully run\n"
     ]
    }
   ],
   "source": [
    "qc = QuantumCircuit(3, 3)\n",
    "qubitlist = [0,1,2]\n",
    "lessgrossgate = fermion_hopping_opt2(epsilon, eta)\n",
    "qc.h(0)\n",
    "qc.h(1)\n",
    "qc.h(2)\n",
    "qc.append(lessgrossgate, qubitlist)\n",
    "qc.measure_all()\n",
    "\n",
    "simbackend = Aer.get_backend(\"qasm_simulator\")\n",
    "transpiled = transpile(qc, backend=simbackend)\n",
    "qobj = assemble(transpiled)\n",
    "results = simbackend.run(qobj).result()\n",
    "sim_results = results.get_counts()\n",
    "\n",
    "IBMQ.load_account()\n",
    "provider = IBMQ.get_provider(hub='ibm-q-education', group='fermilab-1', project='qjs-for-hep')\n",
    "backend = provider.get_backend('ibm_lagos')\n",
    "print(\"backend: \", backend)\n",
    "\n",
    "shots = 1024\n",
    "transpiled_qc = transpile(qc, backend, optimization_level=3)\n",
    "job = backend.run(transpiled_qc, shots=shots)\n",
    "job_monitor(job, interval=2)\n",
    "real_results = job.result().get_counts()"
   ]
  },
  {
   "cell_type": "code",
   "execution_count": 15,
   "id": "e783130f",
   "metadata": {},
   "outputs": [
    {
     "data": {
      "image/png": "[encoded data removed]",
      "text/plain": [
       "<Figure size 1296x360 with 1 Axes>"
      ]
     },
     "execution_count": 15,
     "metadata": {},
     "output_type": "execute_result"
    }
   ],
   "source": [
    "plot_histogram([sim_results, real_results], figsize=(18, 5))"
   ]
  },
  {
   "cell_type": "markdown",
   "id": "8edbf834",
   "metadata": {},
   "source": [
    "In order to extract physics from this simulation, we need to take the qubits and convert them into a meaningful number.  For this lab, we are going to extract the mean electron number as a function of time.  To do this, define a function `get_mean_fermion_number(counts)` which takes in the dictionary of counts of a run and determines the mean number of electrons by counting the lowest qubit.  "
   ]
  },
  {
   "cell_type": "code",
   "execution_count": 16,
   "id": "5a2c85da",
   "metadata": {},
   "outputs": [],
   "source": [
    "#define your function to take in a dictionary counts\n",
    "def get_mean_fermion_number(counts):\n",
    "    #first define a variable mean and set to 0\n",
    "    mean = 0\n",
    "    #define a variable total_counts = sum(counts.values())\n",
    "    total_counts = sum(counts.values())\n",
    "    #perform a for loop over the elements in counts, using for example `s` as the loop variable\n",
    "    for s in counts:\n",
    "        #define a variable p which is the last element of the identifier in your loop variable\n",
    "        #i.e. p = s[-1]\n",
    "        p = s[-1]\n",
    "        #check if p is a `1`.\n",
    "        if p == '1':\n",
    "            #if p == '1', then add to mean counts[s]/total_counts\n",
    "            mean += counts[s]/total_counts\n",
    "    #return the mean       \n",
    "    return mean"
   ]
  },
  {
   "cell_type": "markdown",
   "id": "cf42baa9",
   "metadata": {
    "slideshow": {
     "slide_type": "slide"
    }
   },
   "source": [
    "In order to understand how badly we are doing with our real device results, we need to be computing some kind of statistical error bars, so that we can distinguish meaningful disagreement with the exact results from fluctuations from sampling.  To do this, we will employ the _bootstrap method_ which is similar to the replica method that you were introduced to long ago during the Monte Carlo lab.  Lets implement that next:"
   ]
  },
  {
   "cell_type": "code",
   "execution_count": 57,
   "id": "5d21129d",
   "metadata": {},
   "outputs": [],
   "source": [
    "#define a function `get_bootstrap_error(counts)` which takes in a dictionary `counts`\n",
    "def get_bootstrap_error(counts):\n",
    "    #compute the nshots by using sum(counts.values())\n",
    "    nshots = sum(counts.values())\n",
    "    #For our statistics, we will resample the distribution 100 times, so set B=100\n",
    "    B = 100\n",
    "    #Extract the list of unique keys in your dictionary and store them as a variable k via\n",
    "    # k = list(counts.keys())\n",
    "    k = list(counts.keys())\n",
    "    #For each key, we need to define a probability list prob via [counts[a]/nshots for a in k]\n",
    "    prob = [counts[a]/nshots for a in k]\n",
    "    #define an empty array means\n",
    "    means = []\n",
    "    #With all this setup, now perform a for loop over b in range(B)\n",
    "    for b in range(B):\n",
    "        #set a variable m=0\n",
    "        m = 0\n",
    "        #build a new set of samples using numpy.random.choice with the arguments k, size=nshots, and p=prob\n",
    "        #this function will return nshots worth of new results with probability prob from the choices in k\n",
    "        samples = np.random.choice(k, size=nshots, p=prob)\n",
    "        #make a for loop over s in the list samples\n",
    "        for s in samples:\n",
    "            #set a new variable p = s[-1] to again extract the number of electrons\n",
    "            p = s[-1]\n",
    "            #check if p = `1`\n",
    "            if p == '1':\n",
    "                #add 1/nshots to m if true\n",
    "                m += 1/nshots\n",
    "        #append the results of m to means\n",
    "        means.append(m)\n",
    "    #return from the function the standard deviation of means via numpy.std(means)   \n",
    "    return np.std(means)"
   ]
  },
  {
   "cell_type": "markdown",
   "id": "9b3f83a5",
   "metadata": {},
   "source": [
    "At this point, you have created all of the functions you need to run the code and see how it works.  That will be in Part 3."
   ]
  }
 ],
 "metadata": {
  "kernelspec": {
   "display_name": "Python 3",
   "language": "python",
   "name": "python3"
  },
  "language_info": {
   "codemirror_mode": {
    "name": "ipython",
    "version": 3
   },
   "file_extension": ".py",
   "mimetype": "text/x-python",
   "name": "python",
   "nbconvert_exporter": "python",
   "pygments_lexer": "ipython3",
   "version": "3.8.10"
  }
 },
 "nbformat": 4,
 "nbformat_minor": 5
}
