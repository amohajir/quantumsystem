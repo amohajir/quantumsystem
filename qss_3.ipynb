{
 "cells": [
  {
   "cell_type": "markdown",
   "id": "1de8fc56",
   "metadata": {},
   "source": [
    "# It's Time to Go:  \n",
    "## A final project on simulating something \"like electrons and positrons\"\n",
    "\n",
    "## Objectives:\n",
    "\n",
    "* Gain familiarity with simulating quantum systems through trotterization\n",
    "* Using all your accrued skills, implement a novel code on a real device\n",
    "* Perform statistical analysis on noisy data\n",
    "\n",
    "This lab is a vain attempt to extend some of the work performed in BLARG to actual machines. I have tried to inject this with as much of the real feel of doing work on quantum algorithms today as possible.  \n",
    "\n",
    "## The Model: 1+1d $Z_2$ gauge theory with staggered fermionic matter\n",
    "\n",
    "To remember the picture, and the qubit assignments\n",
    "![z2_cart.png](attachment:z2_cart.png)\n",
    "\n",
    "## The Hamiltonian\n",
    "\n",
    "The lattice qubit Hamiltonian for this model is\n",
    "\n",
    "$$\n",
    "H = \\frac{m}{2}Z_{e}-\\frac{m}{2} Z_{p}\n",
    "+X_{\\gamma}+\\frac{1}{4}Z_{\\gamma} \\left(X_{e}X_{p}+Y_e Y_{p}\\right)\n",
    "$$\n",
    "\n",
    "The subscripts indicate which of the 3 qubits a given gate is acting on (the electron $e$, the positron $p$, or the photon $\\gamma$)\n",
    "\n",
    "## Time Evolution\n",
    "\n",
    "$$ |\\psi(t)\\rangle = U|\\psi_0\\rangle=e^{-iHt}|\\psi_0\\rangle$$\n",
    "\n",
    "Thinking back to Hersh's lecture, we remember that $H$ often has non-commuting terms, which prevents the gate $U$ from being efficiently built into a circuit.  The method of _trotterization_ allows us approximate the $U$ in a way that is efficient.  In our case, there are 3 terms in our Hamiltonian:\n",
    "\n",
    "$$ H = H_{kg} + H_{fh} + H_{m} $$\n",
    "\n",
    "* $H_{kg}$ is the kinetic term for the photon\n",
    "* $H_{fh}$ is the fermionic hopping term\n",
    "* $H_{m}$ is the fermionic mass terms\n",
    "\n",
    "In this case, we can approximate $U$ by:\n",
    "\n",
    "$$\\Large U=e^{-iHt}\\approx \\left(e^{-iH_{kg}\\epsilon}e^{-iH_{fh}\\epsilon}e^{-iH_{m}\\epsilon}\\right)^{t/\\epsilon}+O(\\epsilon^2)\\equiv (U_\\epsilon)^{N} $$\n",
    "where $N=t/\\epsilon$ is the number of time steps we want to use. With this, we can now write $U_\\epsilon$ in terms of gates:\n",
    "\n",
    "$$\\Large{ U_{\\epsilon}=e^{-iH_{kg}\\epsilon}e^{-iH_{fh}\\epsilon}e^{-iH_{m}\\epsilon}\n",
    "\\\\     =e^{-i\\epsilon X_\\gamma}e^{-i\\frac{\\epsilon}{4}Z_{\\gamma} \\left(X_{e}X_{p}+Y_e Y_{p}\\right)}e^{-i(-1)^j m \\epsilon Z_j} }$$\n",
    "where $j={e=0,p=1}$\n",
    "Now, the first and last gates should look familar to you as general rotation gates in the $X,Z$ directions:\n",
    "\n",
    "$${ e^{-i\\epsilon X_\\gamma}=RX(-\\epsilon/2)\n",
    "    \\\\e^{-i(-1)^j m \\epsilon Z_j}=RZ((-1)^{j+1}m\\epsilon ) } $$"
   ]
  },
  {
   "attachments": {
    "rz3.png": {
     "image/png": "[encoded data removed]"
    }
   },
   "cell_type": "markdown",
   "id": "a133143a",
   "metadata": {},
   "source": [
    "The final term, fermion hopping $U_{fh}$, is by far the hardest and most non-trivial gate.  Previously, you implemented a 4 qubit gate for performing this by defining a gate $RZ3$ as the collection of CNOTs and the $RZ$ gate, this gate looks like:\n",
    "\n",
    "![rz3.png](attachment:rz3.png)"
   ]
  },
  {
   "attachments": {
    "fh_gate.png": {
     "image/png": "[encoded data removed]"
    }
   },
   "cell_type": "markdown",
   "id": "b30a9394",
   "metadata": {},
   "source": [
    "from which we can get the $U_{fh}$ as:\n",
    "\n",
    "![fh_gate.png](attachment:fh_gate.png)\n",
    "\n",
    "Notice that this gate requires 12 $CNOTs$.  Since 2-qubit gates errors are much larger than 1 qubit errors, the errors in $U_{fh}$ dominate our circuit.\n",
    "\n",
    "We will come back to this."
   ]
  },
  {
   "cell_type": "markdown",
   "id": "272cc2cc",
   "metadata": {},
   "source": [
    "\n",
    "## ...Ready for it? \n",
    "\n",
    "So first of, lets of course set up all the imports that we need:\n",
    "\n",
    "* numpy\n",
    "* import everything from qiskit\n",
    "* import `matplotlib.pyplot` as plt\n",
    "* Make sure you have $\\pi$"
   ]
  },
  {
   "cell_type": "code",
   "execution_count": 2,
   "id": "e73d1abe",
   "metadata": {},
   "outputs": [],
   "source": [
    "import numpy as np\n",
    "from qiskit import IBMQ, Aer, assemble, transpile, QuantumCircuit, QuantumRegister, ClassicalRegister\n",
    "from qiskit.providers.ibmq import least_busy\n",
    "from qiskit.visualization import plot_histogram\n",
    "from qiskit.tools.monitor import job_monitor\n",
    "from numpy import pi\n",
    "import matplotlib.pyplot as plt"
   ]
  },
  {
   "cell_type": "markdown",
   "id": "e7551f9d",
   "metadata": {},
   "source": [
    "Next, you neeed to load your IBMQ account, and set your provider to our `qjs-for-hep` project.  Finally, use the command\n",
    "\n",
    "    provider.backends()\n",
    "to look at all the computers 'available' to you (Note, 'ibmq_16_melbourne' isn't actually accessible)\n",
    "\n",
    "Keep this list for later"
   ]
  },
  {
   "cell_type": "code",
   "execution_count": 3,
   "id": "2a1ad8eb",
   "metadata": {},
   "outputs": [
    {
     "data": {
      "text/plain": [
       "[<IBMQBackend('ibmq_16_melbourne') from IBMQ(hub='ibm-q-education', group='fermilab-1', project='qjs-for-hep')>,\n",
       " <IBMQBackend('ibmq_armonk') from IBMQ(hub='ibm-q-education', group='fermilab-1', project='qjs-for-hep')>,\n",
       " <IBMQSimulator('ibmq_qasm_simulator') from IBMQ(hub='ibm-q-education', group='fermilab-1', project='qjs-for-hep')>,\n",
       " <IBMQBackend('ibmq_bogota') from IBMQ(hub='ibm-q-education', group='fermilab-1', project='qjs-for-hep')>,\n",
       " <IBMQBackend('ibmq_belem') from IBMQ(hub='ibm-q-education', group='fermilab-1', project='qjs-for-hep')>,\n",
       " <IBMQBackend('ibmq_lima') from IBMQ(hub='ibm-q-education', group='fermilab-1', project='qjs-for-hep')>,\n",
       " <IBMQBackend('ibmq_santiago') from IBMQ(hub='ibm-q-education', group='fermilab-1', project='qjs-for-hep')>,\n",
       " <IBMQBackend('ibmqx2') from IBMQ(hub='ibm-q-education', group='fermilab-1', project='qjs-for-hep')>,\n",
       " <IBMQBackend('ibmq_quito') from IBMQ(hub='ibm-q-education', group='fermilab-1', project='qjs-for-hep')>,\n",
       " <IBMQBackend('ibmq_casablanca') from IBMQ(hub='ibm-q-education', group='fermilab-1', project='qjs-for-hep')>,\n",
       " <IBMQBackend('ibmq_manila') from IBMQ(hub='ibm-q-education', group='fermilab-1', project='qjs-for-hep')>,\n",
       " <IBMQBackend('ibmq_jakarta') from IBMQ(hub='ibm-q-education', group='fermilab-1', project='qjs-for-hep')>,\n",
       " <IBMQBackend('ibm_lagos') from IBMQ(hub='ibm-q-education', group='fermilab-1', project='qjs-for-hep')>]"
      ]
     },
     "execution_count": 3,
     "metadata": {},
     "output_type": "execute_result"
    }
   ],
   "source": [
    "IBMQ.load_account()\n",
    "provider = IBMQ.get_provider(hub='ibm-q-education', group='fermilab-1', project='qjs-for-hep')\n",
    "provider.backends()"
   ]
  },
  {
   "cell_type": "markdown",
   "id": "6a7f2c57",
   "metadata": {},
   "source": [
    "Copy over from yesterday your initalization of `N,epsilon`, and `mass`"
   ]
  },
  {
   "cell_type": "code",
   "execution_count": 4,
   "id": "6fc80eb3",
   "metadata": {},
   "outputs": [],
   "source": [
    "# Number of sites\n",
    "N = 2\n",
    "epsilon = 0.5\n",
    "mass = 1.0\n",
    "eta = 1"
   ]
  },
  {
   "cell_type": "markdown",
   "id": "2bd92e49",
   "metadata": {},
   "source": [
    "## Gauge Kinetic Gate\n",
    "Copy over your function for $RX(-\\epsilon/2)$"
   ]
  },
  {
   "cell_type": "code",
   "execution_count": 5,
   "id": "bb45d1ca",
   "metadata": {},
   "outputs": [],
   "source": [
    "def gauge_kinetic(epsilon):\n",
    "    qc = QuantumCircuit(1)\n",
    "    theta = -epsilon/2\n",
    "    qc.rx(theta, 0)\n",
    "    ukg = qc.to_gate()\n",
    "    ukg.name = 'Rx'\n",
    "    \n",
    "    return ukg"
   ]
  },
  {
   "cell_type": "markdown",
   "id": "da54bb46",
   "metadata": {},
   "source": [
    "## Fermion mass gate\n",
    "\n",
    "Copy over your function for $RZ((-1)^{j+1}m\\epsilon ) $"
   ]
  },
  {
   "cell_type": "code",
   "execution_count": 6,
   "id": "8fd6d10c",
   "metadata": {},
   "outputs": [],
   "source": [
    "def fermion_mass(epsilon, mass, eta):\n",
    "    qc = QuantumCircuit(1)\n",
    "    qc.rz((-eta*mass*epsilon), [0])\n",
    "    fm = qc.to_gate()\n",
    "    fm.name = \"Rz\"\n",
    "    \n",
    "    return fm"
   ]
  },
  {
   "cell_type": "markdown",
   "id": "60297d08",
   "metadata": {},
   "source": [
    "## Fermion hopping term\n",
    "\n",
    "Copy over your functions for $RZ3$ and $U_{fh}$"
   ]
  },
  {
   "cell_type": "code",
   "execution_count": 7,
   "id": "263cd6e3",
   "metadata": {},
   "outputs": [],
   "source": [
    "def rz3(theta):\n",
    "    qc = QuantumCircuit(4)\n",
    "    qc.cx(0,3)\n",
    "    qc.cx(1,3)\n",
    "    qc.cx(2,3)\n",
    "    qc.rz(theta, 3)\n",
    "    qc.cx(0,3)\n",
    "    qc.cx(1,3)\n",
    "    qc.cx(2,3)\n",
    "    U_rz3 = qc.to_gate()\n",
    "    U_rz3.name = \"the complicated set of gates (urz3)\"\n",
    "    \n",
    "    return U_rz3"
   ]
  },
  {
   "cell_type": "code",
   "execution_count": 8,
   "id": "e12c98a9",
   "metadata": {},
   "outputs": [],
   "source": [
    "def gross_gate(epsilon, eta):\n",
    "    qc = QuantumCircuit(4)\n",
    "    qc.h(0)\n",
    "    qc.h(2)\n",
    "    qubit_list = [0,1,2,3]\n",
    "    U_rz3 = rz3((-epsilon)/(4*eta))\n",
    "    qc.append(U_rz3, qubit_list)\n",
    "    qc.h(0)\n",
    "    qc.h(2)\n",
    "    qc.u((-pi/2), (pi/2), (-pi/2), 0)\n",
    "    qc.u((-pi/2), (pi/2), (-pi/2), 2)\n",
    "    qc.append(U_rz3, qubit_list)\n",
    "    qc.u((pi/2), (pi/2), (-pi/2), 0)\n",
    "    qc.u((pi/2), (pi/2), (-pi/2), 2)\n",
    "    grossgate = qc.to_gate()\n",
    "    grossgate.name = \"ufh\"\n",
    "    \n",
    "    return grossgate"
   ]
  },
  {
   "cell_type": "markdown",
   "id": "a59757a2",
   "metadata": {},
   "source": [
    "## Analysis functions: \n",
    "\n",
    "Copy over your functions `get_mean_fermion_number` and `get_bootstrap_error`"
   ]
  },
  {
   "cell_type": "code",
   "execution_count": 9,
   "id": "5a2c85da",
   "metadata": {},
   "outputs": [],
   "source": [
    "#define your function to take in a dictionary counts\n",
    "def get_mean_fermion_number(counts):\n",
    "    #first define a variable mean and set to 0\n",
    "    mean = 0\n",
    "    #define a variable total_counts = sum(counts.values())\n",
    "    total_counts = sum(counts.values())\n",
    "    #perform a for loop over the elements in counts, using for example `s` as the loop variable\n",
    "    for s in counts:\n",
    "        #define a variable p which is the last element of the identifier in your loop variable\n",
    "        #i.e. p = s[-1]\n",
    "        p = s[-1]\n",
    "        #check if p is a `1`.\n",
    "        if p == '1':\n",
    "            #if p == '1', then add to mean counts[s]/total_counts\n",
    "            mean += counts[s]/total_counts\n",
    "    #return the mean       \n",
    "    return mean    \n"
   ]
  },
  {
   "cell_type": "code",
   "execution_count": 10,
   "id": "5d21129d",
   "metadata": {},
   "outputs": [],
   "source": [
    "#define a function `get_bootstrap_error(counts)` which takes in a dictionary `counts`\n",
    "def get_bootstrap_error(counts):\n",
    "    #compute the nshots by using sum(counts.values())\n",
    "    nshots = sum(counts.values())\n",
    "    #For our statistics, we will resample the distribution 100 times, so set B=100\n",
    "    B = 100\n",
    "    #Extract the list of unique keys in your dictionary and store them as a variable k via\n",
    "    # k = list(counts.keys())\n",
    "    k = list(counts.keys())\n",
    "    #For each key, we need to define a probability list prob via [counts[a]/nshots for a in k]\n",
    "    prob = [counts[a]/nshots for a in k]\n",
    "    #define an empty array means\n",
    "    means = []\n",
    "    #With all this setup, now perform a for loop over b in range(B)\n",
    "    for b in range(B):\n",
    "        #set a variable m=0\n",
    "        m = 0\n",
    "        #build a new set of samples using numpy.random.choice with the arguments k, size=nshots, and p=prob\n",
    "        #this function will return nshots worth of new results with probability prob from the choices in k\n",
    "        samples = np.random.choice(k, size=nshots, p=prob)\n",
    "        #make a for loop over s in the list samples\n",
    "        for s in samples:\n",
    "            #set a new variable p = s[-1] to again extract the number of electrons\n",
    "            p = s[-1]\n",
    "            #check if p = `1`\n",
    "            if p == '1':\n",
    "                #add 1/nshots to m if true\n",
    "                m += 1/nshots\n",
    "        #append the results of m to means\n",
    "        means.append(m)\n",
    "    #return from the function the standard deviation of means via numpy.std(means)   \n",
    "    return np.std(means)"
   ]
  },
  {
   "cell_type": "markdown",
   "id": "69e616c2",
   "metadata": {},
   "source": [
    "At this point, we have made all of the functions we need to run the code, and produce a time-evolution simulation.  So on to the main event:\n",
    "\n",
    "* Define a bunch of empty list: `counts`, `sim_counts`, `means`, `errs`, `sim_means`, `sim_errs` and `Ts`\n",
    "* Besides the above code, everything else should be within a for-loop in `T` over the `range(int(3/epsilon))` which will loop over the total integer time `T`.  The real total time is $\\epsilon T$\n",
    "* At the beginning of each step, append `T` to `Ts`\n",
    "* Create a QuantumCircuit with enough qubits and classical bits to run using `fermion_hopping_opt2`.  Remember the number of fermions is stored as $N$, so the total number of qubits is $2N-1$.\n",
    "* In order to do time-evolution of a state $|\\psi(t)\\rangle$, we need to define the initial state.  For us, lets use $H_0X_0|000\\rangle$ as our initial state. The subscripts indicate which qubit the gates act on.\n",
    "* Within the $T$ loop, we need another loop over $t$ which ranges from 0 to $T$.  This will be used to add the appropriate number of gates for the number of trotter steps $t$ taken.\n",
    "\n",
    "Within the $t$ loop, you will need 3 loops:\n",
    " 1. Loop over all fermions (Hint, this is not a simple range function but should step by 2). Appending to your circuit the fermion mass gate with parameters `epsilon`, `mass`, and for eta one should send in $(-1)^{n/2+1}$ where $n$ is the loop variable.\n",
    " 2. Loop over all the photons (Hint, this is not a simple range function but should step by 2).  Append to your circuit `gauge_kinetic` with `epsilon`\n",
    " 3. Loop over all electrons (Hint this loop should have the same step as the fermion loop, but should terminate 2 qubits earlier\n",
    " \n",
    " This completes time evolution.  Within your for-loop, you should set up a simulator and real machine backend, and run both together. Transpile them, and run.  Within the for-loop, add \n",
    " \n",
    "    sim_means.append(get_mean_fermion_number(sim_counts[T]))  \n",
    "    means.append(get_mean_fermion_number(counts[T]))  \n",
    "    \n",
    "    sim_errs.append(get_bootstrap_error(sim_counts[T]))\n",
    "    errs.append(get_bootstrap_error(counts[T]))\n",
    "    \n",
    "So that you can use that data to make plots and compare.  As a final thing, print out     `T*epsilon, sim_means[T], sim_errs[T], means[T], errs[T]` at each time step to get the numbers instantly. They should agree to some rough amount depending on your errors."
   ]
  },
  {
   "cell_type": "code",
   "execution_count": null,
   "id": "dbb38e30",
   "metadata": {
    "scrolled": true
   },
   "outputs": [],
   "source": [
    "# Define all of your empty arrays\n",
    "counts, sim_counts, means, errs, sim_means, sim_errs, Ts = []\n",
    "#Make the for loop\n",
    "for T in range(int(3/epsilon)):\n",
    "    #Append Ts and create your circuit\n",
    "    Ts.append(T)\n",
    "    qc.QuantumCircuit(3, 3)\n",
    "    #state prep!\n",
    "    qc.h(0)\n",
    "    qc.h(1)\n",
    "    qc.h(2)\n",
    "    qc.x(0)\n",
    "    qc.x(1)\n",
    "    qc.x(2)\n",
    "    #time evolution\n",
    "    for t in range(T):\n",
    "    #add measurement steps\n",
    "        #Loop over N fermions\n",
    "        for n in range(0, 2*N, 2):\n",
    "            fm = fermion_mass(epsilon, mass, (-1)**((n/2)+1))\n",
    "            qc.append(fm, [n])\n",
    "        #Loop over G photons\n",
    "        for n in range(1, 2*N-1, 2):\n",
    "            ukg = gauge_kinetic(epsilon)\n",
    "            qc.append(ukg, [n])\n",
    "        #Loop over N-2 electrons\n",
    "        for n in range(0, 2*N-3, 2):\n",
    "            \n",
    "    #define your two backends\n",
    "            \n",
    "    #transpile your circuit for each backend\n",
    "\n",
    "    #run each of your jobs, name them differently\n",
    "\n",
    "    #append your results to sim_counts and counts.  Note that to access these later you will need counts[T] or sim_counts[T]\n",
    "\n",
    "    #Compute the means and standard deviations and store them into the correct variables    \n",
    "    \n",
    "    \n",
    "    #print out the time elapsed,means, and errors\n",
    "    "
   ]
  },
  {
   "cell_type": "markdown",
   "id": "8bd8f199",
   "metadata": {},
   "source": [
    "At this point, contact a lab instructor to come check your code, because the last step is to extend the time step from $1/\\epsilon$ to $3/\\epsilon$.  This will require many more calls to the real device, so it could take a while.\n",
    "\n",
    "After your done, run the next cell.  It should plot the simulator results vs the real device.  How did you do?  Do they agre e within errors everywhere?  Do they start getting worse?"
   ]
  },
  {
   "cell_type": "code",
   "execution_count": 35,
   "id": "c9edc24e",
   "metadata": {},
   "outputs": [
    {
     "data": {
      "text/plain": [
       "<ErrorbarContainer object of 3 artists>"
      ]
     },
     "execution_count": 35,
     "metadata": {},
     "output_type": "execute_result"
    },
    {
     "data": {
      "image/png": "[encoded data removed]",
      "text/plain": [
       "<Figure size 432x288 with 1 Axes>"
      ]
     },
     "metadata": {
      "needs_background": "light"
     },
     "output_type": "display_data"
    }
   ],
   "source": [
    "plt.errorbar(Ts, sim_means , yerr=sim_errs, ls='', marker='o', color='b')\n",
    "plt.errorbar(Ts, means , yerr=errs, ls='', marker='o', color='r')"
   ]
  },
  {
   "cell_type": "code",
   "execution_count": null,
   "id": "77c36e49",
   "metadata": {},
   "outputs": [],
   "source": []
  }
 ],
 "metadata": {
  "kernelspec": {
   "display_name": "Python 3",
   "language": "python",
   "name": "python3"
  },
  "language_info": {
   "codemirror_mode": {
    "name": "ipython",
    "version": 3
   },
   "file_extension": ".py",
   "mimetype": "text/x-python",
   "name": "python",
   "nbconvert_exporter": "python",
   "pygments_lexer": "ipython3",
   "version": "3.8.10"
  }
 },
 "nbformat": 4,
 "nbformat_minor": 5
}
